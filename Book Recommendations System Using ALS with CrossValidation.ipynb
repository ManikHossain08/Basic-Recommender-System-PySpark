{
 "cells": [
  {
   "cell_type": "code",
   "execution_count": 80,
   "metadata": {},
   "outputs": [],
   "source": [
    "import os\n",
    "import sys\n",
    "from pyspark.rdd import RDD\n",
    "from pyspark.sql import Row\n",
    "from pyspark.sql import DataFrame\n",
    "from pyspark.sql import SparkSession\n",
    "from pyspark.sql.functions import lit, col\n",
    "from pyspark.sql.functions import desc\n",
    "from pyspark.ml.evaluation import RegressionEvaluator\n",
    "from pyspark.ml.tuning import CrossValidator, ParamGridBuilder\n",
    "from pyspark.ml.recommendation import ALS\n",
    "import numpy as np\n",
    "#Show image\n",
    "from IPython.display import Image, display\n"
   ]
  },
  {
   "cell_type": "code",
   "execution_count": 4,
   "metadata": {},
   "outputs": [],
   "source": [
    "#Initialize a spark session.\n",
    "def init_spark():\n",
    "    spark = SparkSession \\\n",
    "        .builder \\\n",
    "        .appName(\"Python Spark Book Recommendation\") \\\n",
    "        .config(\"spark.some.config.option\", \"some-value\") \\\n",
    "        .getOrCreate()\n",
    "    return spark"
   ]
  },
  {
   "cell_type": "code",
   "execution_count": 122,
   "metadata": {},
   "outputs": [],
   "source": [
    "spark = init_spark()"
   ]
  },
  {
   "cell_type": "code",
   "execution_count": 50,
   "metadata": {},
   "outputs": [],
   "source": [
    "ratings_df = spark.read.csv(\"./archive/ratings.csv\", header = True, inferSchema = True)\n",
    "books_df = spark.read.csv(\"./archive/books.csv\", header = True, inferSchema = True)"
   ]
  },
  {
   "cell_type": "code",
   "execution_count": 51,
   "metadata": {},
   "outputs": [
    {
     "name": "stdout",
     "output_type": "stream",
     "text": [
      "+-------+-------+------+\n",
      "|book_id|user_id|rating|\n",
      "+-------+-------+------+\n",
      "|      1|    314|     5|\n",
      "|      1|    439|     3|\n",
      "+-------+-------+------+\n",
      "only showing top 2 rows\n",
      "\n",
      "root\n",
      " |-- book_id: integer (nullable = true)\n",
      " |-- user_id: integer (nullable = true)\n",
      " |-- rating: integer (nullable = true)\n",
      "\n"
     ]
    }
   ],
   "source": [
    "ratings_df.show(2)\n",
    "ratings_df.printSchema()"
   ]
  },
  {
   "cell_type": "code",
   "execution_count": 52,
   "metadata": {},
   "outputs": [],
   "source": [
    "(training_df, validatioin_df) = ratings_df.randomSplit([.8, .2])"
   ]
  },
  {
   "cell_type": "markdown",
   "metadata": {},
   "source": [
    "# Hyperparameter Tuning\n",
    "### numBlocks: is the number of blocks used to parallelize computation (set to -1 to auto-configure).\n",
    "### rank: is the number of features to use (also referred to as the number of latent factors).\n",
    "### iterations: is the number of iterations of ALS to run. ALS typically converges to a reasonable solution in 20 iterations or less. this work with grediant decent means how many backwork or forward should be there to adjust the tuning parameter to adjust the error.\n",
    "### seed: to keep the splited data same everytime when I run the command\n",
    "### regParam: regularization parameter means in each iteration how much point or value we want to change.\n",
    "\n",
    "numBlocks is the number of blocks the users and items will be partitioned into in order to parallelize computation (defaults to 10).\n",
    "\n",
    "rank is the number of latent factors in the model (defaults to 10).\n",
    "\n",
    "maxIter is the maximum number of iterations to run (defaults to 10).\n",
    "\n",
    "regParam specifies the regularization parameter in ALS (defaults to 1.0).\n",
    "\n",
    "implicitPrefs specifies whether to use the explicit feedback ALS variant or one adapted for implicit feedback data (defaults to false which means using explicit feedback).\n",
    "\n",
    "alpha is a parameter applicable to the implicit feedback variant of ALS that governs the baseline confidence in preference observations (defaults to 1.0).\n",
    "\n",
    "http://restanalytics.com/2019-02-27-Hyperparameter-Tuning-Alternating-Least-Squares-Recommender-System/"
   ]
  },
  {
   "cell_type": "code",
   "execution_count": 53,
   "metadata": {},
   "outputs": [],
   "source": [
    "#hyperParameter of ALS model\n",
    "maxIteration = 10\n",
    "rank = 4\n",
    "regParam = 0.1\n",
    "seed = 123\n",
    "error = []"
   ]
  },
  {
   "cell_type": "code",
   "execution_count": 68,
   "metadata": {},
   "outputs": [
    {
     "name": "stdout",
     "output_type": "stream",
     "text": [
      "rmse before cross validations: 0.905563529523405\n"
     ]
    }
   ],
   "source": [
    "als = ALS(maxIter = maxIteration, rank= rank, regParam=regParam, userCol=\"user_id\", itemCol=\"book_id\", \n",
    "          ratingCol=\"rating\", coldStartStrategy=\"drop\", seed=seed)\n",
    "model = als.fit(training_df)\n",
    "predictions = model.transform(validatioin_df)\n",
    "new_predictions = predictions.filter(col('prediction') != np.nan)\n",
    "evaluator = RegressionEvaluator(metricName = \"rmse\", labelCol=\"rating\", predictionCol=\"prediction\")\n",
    "rmse = evaluator.evaluate(new_predictions)\n",
    "print(\"rmse before cross validations: \" + str(rmse))"
   ]
  },
  {
   "cell_type": "code",
   "execution_count": 69,
   "metadata": {},
   "outputs": [
    {
     "name": "stdout",
     "output_type": "stream",
     "text": [
      "rmse before cross validations: 0.8929300591009571\n",
      "rmse before cross validations: 0.9059769309808305\n",
      "rmse before cross validations: 0.905563529523405\n"
     ]
    }
   ],
   "source": [
    "for rank in range(4, 7):\n",
    "    als = ALS(maxIter = maxIteration, rank= rank, regParam=regParam, userCol=\"user_id\", itemCol=\"book_id\", \n",
    "          ratingCol=\"rating\", coldStartStrategy=\"drop\", seed=seed)\n",
    "    model = als.fit(training_df)\n",
    "    predictions = model.transform(validatioin_df)\n",
    "    new_predictions = predictions.filter(col('prediction') != np.nan)\n",
    "    evaluator = RegressionEvaluator(metricName = \"rmse\", labelCol=\"rating\", predictionCol=\"prediction\")\n",
    "    rmse = evaluator.evaluate(new_predictions)\n",
    "    print(\"rmse before cross validations: \" + str(rmse))"
   ]
  },
  {
   "cell_type": "markdown",
   "metadata": {},
   "source": [
    "# Cross Validation\n",
    "Fitting the model tuning the parameter of ALS\n",
    "\n",
    " A CrossValidator requires an Estimator, a set of Estimator ParamMaps, and an Evaluator.\n",
    " We use a ParamGridBuilder to construct a grid of parameters to search over.\n",
    " With 2 values for rank and 2 values for regParam, 2 values for maxIter,2 values for alpha\n",
    " this grid will have 2 x 2 x 2 x 2 = 16 parameter settings for CrossValidator to choose from.\n"
   ]
  },
  {
   "cell_type": "code",
   "execution_count": 64,
   "metadata": {},
   "outputs": [],
   "source": [
    "als = ALS(maxIter = maxIteration, rank= rank, regParam=regParam, userCol=\"user_id\", itemCol=\"book_id\", \n",
    "          ratingCol=\"rating\", coldStartStrategy=\"drop\", seed=seed)\n",
    "\n",
    "paramGrid = ParamGridBuilder() \\\n",
    "    .addGrid(als.regParam, [0.1, 0.01, 0.001, 0.18]) \\\n",
    "    .addGrid(als.rank, range(4, 10)) \\\n",
    "    .addGrid(als.maxIter, [5,10]) \\\n",
    "    .addGrid(als.alpha, [2.0,3.0]) \\\n",
    "    .build()\n",
    "evaluator = RegressionEvaluator(metricName = \"rmse\", labelCol=\"rating\", predictionCol=\"prediction\")\n",
    "crossVal = CrossValidator(estimator = als,\n",
    "                          estimatorParamMaps = paramGrid,\n",
    "                          evaluator = evaluator,\n",
    "                          numFolds = 5)\n",
    "cvModel = crossVal.fit(training_df)\n",
    " "
   ]
  },
  {
   "cell_type": "code",
   "execution_count": 100,
   "metadata": {},
   "outputs": [
    {
     "name": "stdout",
     "output_type": "stream",
     "text": [
      "rmse after cross validations: 0.8754686781368951\n"
     ]
    }
   ],
   "source": [
    "    predictions = cvModel.bestModel.transform(validatioin_df)\n",
    "    new_predictions = predictions.filter(col('prediction') != np.nan)\n",
    "    \n",
    "    evaluator = RegressionEvaluator(metricName = \"rmse\", labelCol=\"rating\", predictionCol=\"prediction\")\n",
    "    rmse = evaluator.evaluate(new_predictions)\n",
    "    print(\"rmse after cross validations: \" + str(rmse))"
   ]
  },
  {
   "cell_type": "code",
   "execution_count": 103,
   "metadata": {},
   "outputs": [
    {
     "name": "stdout",
     "output_type": "stream",
     "text": [
      "+-------+-------+------+----------+\n",
      "|book_id|user_id|rating|prediction|\n",
      "+-------+-------+------+----------+\n",
      "|    148|  26629|     4|   3.70065|\n",
      "|    148|  41282|     3| 4.0466104|\n",
      "|    148|  24326|     5| 3.3590097|\n",
      "|    148|  13034|     4| 3.3892398|\n",
      "|    148|  32055|     3| 3.0925324|\n",
      "+-------+-------+------+----------+\n",
      "only showing top 5 rows\n",
      "\n"
     ]
    }
   ],
   "source": [
    "cvPrediction = cvModel.bestModel.transform(validatioin_df)\n",
    "cvPrediction.show(5)"
   ]
  },
  {
   "cell_type": "markdown",
   "metadata": {},
   "source": [
    "### Join preedicted value with books"
   ]
  },
  {
   "cell_type": "code",
   "execution_count": 104,
   "metadata": {},
   "outputs": [
    {
     "name": "stdout",
     "output_type": "stream",
     "text": [
      "+-------+----------+----------+\n",
      "|user_id|     title|prediction|\n",
      "+-------+----------+----------+\n",
      "|   6460|Lysistrata| 4.0269313|\n",
      "|  40820|Lysistrata| 3.2764637|\n",
      "|   2331|Lysistrata| 3.2153287|\n",
      "|  11326|Lysistrata| 4.0256095|\n",
      "|  26933|Lysistrata| 3.8841832|\n",
      "+-------+----------+----------+\n",
      "only showing top 5 rows\n",
      "\n"
     ]
    }
   ],
   "source": [
    "cvPrediction.join(books_df, \"book_id\").select(\"user_id\", \"title\", \"prediction\").show(5)"
   ]
  },
  {
   "cell_type": "markdown",
   "metadata": {},
   "source": [
    "### Predict books for one specific user"
   ]
  },
  {
   "cell_type": "code",
   "execution_count": 106,
   "metadata": {},
   "outputs": [
    {
     "name": "stdout",
     "output_type": "stream",
     "text": [
      "+-------+--------------------+----------+--------------------+\n",
      "|user_id|               title|prediction|           image_url|\n",
      "+-------+--------------------+----------+--------------------+\n",
      "|  40820|          Lysistrata| 3.2764637|https://images.gr...|\n",
      "|  40820|A Tale of Two Cities|  2.991767|https://images.gr...|\n",
      "+-------+--------------------+----------+--------------------+\n",
      "\n"
     ]
    }
   ],
   "source": [
    "for_one_user = cvPrediction.filter(col(\"user_id\") == 40820) \\\n",
    "                         .join(books_df, \"book_id\").select(\"user_id\", \"title\", \"prediction\", \"image_url\")\n",
    "for_one_user.show(5)"
   ]
  },
  {
   "cell_type": "markdown",
   "metadata": {},
   "source": [
    "### See the images of those books that have been recommended"
   ]
  },
  {
   "cell_type": "code",
   "execution_count": 107,
   "metadata": {},
   "outputs": [
    {
     "name": "stdout",
     "output_type": "stream",
     "text": [
      "Lysistrata\n"
     ]
    },
    {
     "data": {
      "text/html": [
       "<img src=\"https://images.gr-assets.com/books/1335892524m/1591.jpg\"/>"
      ],
      "text/plain": [
       "<IPython.core.display.Image object>"
      ]
     },
     "metadata": {},
     "output_type": "display_data"
    },
    {
     "name": "stdout",
     "output_type": "stream",
     "text": [
      "A Tale of Two Cities\n"
     ]
    },
    {
     "data": {
      "text/html": [
       "<img src=\"https://images.gr-assets.com/books/1344922523m/1953.jpg\"/>"
      ],
      "text/plain": [
       "<IPython.core.display.Image object>"
      ]
     },
     "metadata": {},
     "output_type": "display_data"
    }
   ],
   "source": [
    "for book in for_one_user.take(10):\n",
    "    print(book.title)\n",
    "    display(Image(url=book.image_url))"
   ]
  },
  {
   "cell_type": "markdown",
   "metadata": {},
   "source": [
    "# Genereate top 10 books recommendation for each users"
   ]
  },
  {
   "cell_type": "code",
   "execution_count": 110,
   "metadata": {},
   "outputs": [
    {
     "name": "stdout",
     "output_type": "stream",
     "text": [
      "root\n",
      " |-- user_id: integer (nullable = false)\n",
      " |-- recommendations: array (nullable = true)\n",
      " |    |-- element: struct (containsNull = true)\n",
      " |    |    |-- book_id: integer (nullable = true)\n",
      " |    |    |-- rating: float (nullable = true)\n",
      "\n",
      "+-------+------------------------------------------------------------+\n",
      "|user_id|book_id                                                     |\n",
      "+-------+------------------------------------------------------------+\n",
      "|148    |[862, 6590, 3628, 1788, 5207, 6920, 4483, 8187, 9842, 4868] |\n",
      "|463    |[862, 6590, 5207, 6920, 1788, 3628, 4483, 8109, 3395, 9566] |\n",
      "|471    |[8109, 8663, 6642, 7254, 6920, 5207, 3395, 6590, 2937, 8978]|\n",
      "|496    |[8109, 7368, 6642, 8663, 4881, 5879, 8249, 1308, 7014, 5752]|\n",
      "|833    |[4868, 7844, 9842, 862, 3628, 8233, 3491, 8187, 3953, 2205] |\n",
      "|1088   |[4868, 7844, 3628, 5207, 6590, 7275, 4336, 9842, 9566, 1380]|\n",
      "|1238   |[8548, 862, 4344, 8187, 9182, 562, 7424, 5435, 1029, 7373]  |\n",
      "|1342   |[4868, 7844, 3628, 9842, 5207, 6590, 7275, 9566, 6920, 9076]|\n",
      "|1580   |[4868, 7844, 9842, 3628, 3491, 6590, 1788, 5207, 862, 9076] |\n",
      "|1591   |[8109, 8663, 6642, 3395, 8522, 8249, 3082, 2937, 1895, 3660]|\n",
      "+-------+------------------------------------------------------------+\n",
      "only showing top 10 rows\n",
      "\n"
     ]
    }
   ],
   "source": [
    "userRecs = cvModel.bestModel.recommendForAllUsers(10)\n",
    "userRecs.printSchema()\n",
    "userRecs.select(\"user_id\", \"recommendations.book_id\").show(10, False)"
   ]
  },
  {
   "cell_type": "markdown",
   "metadata": {},
   "source": [
    "# Genereate top 10 user recommendation for each books"
   ]
  },
  {
   "cell_type": "code",
   "execution_count": 111,
   "metadata": {},
   "outputs": [
    {
     "name": "stdout",
     "output_type": "stream",
     "text": [
      "root\n",
      " |-- book_id: integer (nullable = false)\n",
      " |-- recommendations: array (nullable = true)\n",
      " |    |-- element: struct (containsNull = true)\n",
      " |    |    |-- user_id: integer (nullable = true)\n",
      " |    |    |-- rating: float (nullable = true)\n",
      "\n",
      "+-------+----------------------------------------------------------------------+\n",
      "|book_id|user_id                                                               |\n",
      "+-------+----------------------------------------------------------------------+\n",
      "|1580   |[38201, 29642, 46874, 30038, 12906, 32731, 49857, 11100, 51626, 46594]|\n",
      "|4900   |[50307, 21791, 41819, 49857, 504, 48202, 49374, 51739, 7571, 36622]   |\n",
      "|5300   |[42979, 29500, 28146, 44520, 20324, 16555, 36411, 9219, 46457, 52593] |\n",
      "|6620   |[36647, 46594, 49857, 30757, 14734, 49001, 46874, 11100, 21720, 29642]|\n",
      "|7240   |[46594, 7571, 32731, 48416, 16392, 49857, 41819, 27206, 46874, 11260] |\n",
      "|7340   |[32731, 29983, 19217, 38866, 16392, 36622, 14816, 47036, 49374, 46343]|\n",
      "|7880   |[19217, 51218, 4421, 34547, 47479, 29684, 23180, 37163, 38404, 50307] |\n",
      "|9900   |[38201, 30038, 21264, 12906, 51614, 46594, 47161, 11512, 50235, 32529]|\n",
      "|471    |[49857, 50307, 32731, 49374, 19217, 29642, 5527, 46874, 36622, 38866] |\n",
      "|1591   |[32731, 29642, 30038, 46874, 49857, 49374, 38201, 16392, 50307, 51626]|\n",
      "+-------+----------------------------------------------------------------------+\n",
      "only showing top 10 rows\n",
      "\n"
     ]
    }
   ],
   "source": [
    "bookRecs = cvModel.bestModel.recommendForAllItems(10)\n",
    "bookRecs.printSchema()\n",
    "bookRecs.select(\"book_id\", \"recommendations.user_id\").show(10, False)"
   ]
  },
  {
   "cell_type": "markdown",
   "metadata": {},
   "source": [
    "# Generate top 10 user recommendations for a specified set of books "
   ]
  },
  {
   "cell_type": "code",
   "execution_count": 113,
   "metadata": {},
   "outputs": [
    {
     "name": "stdout",
     "output_type": "stream",
     "text": [
      "root\n",
      " |-- book_id: integer (nullable = false)\n",
      " |-- recommendations: array (nullable = true)\n",
      " |    |-- element: struct (containsNull = true)\n",
      " |    |    |-- user_id: integer (nullable = true)\n",
      " |    |    |-- rating: float (nullable = true)\n",
      "\n",
      "+-------+---------------------------------------------------------------------+\n",
      "|book_id|user_id                                                              |\n",
      "+-------+---------------------------------------------------------------------+\n",
      "|471    |[49857, 50307, 32731, 49374, 19217, 29642, 5527, 46874, 36622, 38866]|\n",
      "|463    |[50307, 49857, 49374, 5527, 2137, 19217, 504, 51739, 43247, 36622]   |\n",
      "|833    |[50307, 32731, 49857, 49374, 36622, 38866, 5527, 16392, 19217, 2404] |\n",
      "|496    |[49857, 32731, 29642, 50307, 49374, 46874, 19217, 51626, 30038, 5527]|\n",
      "|148    |[49857, 32731, 29642, 49374, 50307, 46874, 19217, 51626, 30038, 5527]|\n",
      "+-------+---------------------------------------------------------------------+\n",
      "\n"
     ]
    }
   ],
   "source": [
    "items = ratings_df.select(als.getItemCol()).distinct().limit(5)\n",
    "itemSubsetRecs = cvModel.bestModel.recommendForItemSubset(items, 10)\n",
    "itemSubsetRecs.printSchema()\n",
    "itemSubsetRecs.select(\"book_id\", \"recommendations.user_id\").show(10, False)"
   ]
  },
  {
   "cell_type": "markdown",
   "metadata": {},
   "source": [
    "# Generate top 10 books recommendations for a specified set of users"
   ]
  },
  {
   "cell_type": "code",
   "execution_count": 120,
   "metadata": {},
   "outputs": [
    {
     "name": "stdout",
     "output_type": "stream",
     "text": [
      "root\n",
      " |-- user_id: integer (nullable = false)\n",
      " |-- recommendations: array (nullable = true)\n",
      " |    |-- element: struct (containsNull = true)\n",
      " |    |    |-- book_id: integer (nullable = true)\n",
      " |    |    |-- rating: float (nullable = true)\n",
      "\n",
      "+-------+------------------------------------------------------------+\n",
      "|user_id|book_id                                                     |\n",
      "+-------+------------------------------------------------------------+\n",
      "|32592  |[862, 6590, 5207, 6920, 1788, 3628, 4483, 2244, 3753, 6228] |\n",
      "|35982  |[4868, 7844, 3628, 9842, 5207, 6590, 9566, 6920, 9076, 1788]|\n",
      "|19984  |[862, 6590, 6920, 5207, 8109, 1788, 1308, 8663, 6642, 4483] |\n",
      "|1088   |[4868, 7844, 3628, 5207, 6590, 7275, 4336, 9842, 9566, 1380]|\n",
      "|3918   |[4868, 3628, 5207, 7254, 6920, 7844, 9566, 6590, 5580, 8978]|\n",
      "+-------+------------------------------------------------------------+\n",
      "\n"
     ]
    }
   ],
   "source": [
    "users = ratings_df.select(als.getUserCol()).distinct().limit(5)\n",
    "usersSubsetRecs = cvModel.bestModel.recommendForUserSubset(users, 10)\n",
    "usersSubsetRecs.printSchema()\n",
    "usersSubsetRecs.select(\"user_id\", \"recommendations.book_id\").show(10, False)"
   ]
  },
  {
   "cell_type": "markdown",
   "metadata": {},
   "source": [
    "# Predictions some books for specific users"
   ]
  },
  {
   "cell_type": "code",
   "execution_count": 119,
   "metadata": {},
   "outputs": [
    {
     "name": "stdout",
     "output_type": "stream",
     "text": [
      "root\n",
      " |-- book_id: long (nullable = true)\n",
      " |-- user_id: long (nullable = true)\n",
      " |-- prediction: float (nullable = false)\n",
      "\n",
      "+-------+-------+----------+\n",
      "|book_id|user_id|prediction|\n",
      "+-------+-------+----------+\n",
      "|148    |32592  |3.5472047 |\n",
      "|463    |19984  |5.1802907 |\n",
      "|471    |35982  |3.6147094 |\n",
      "|496    |1088   |3.5657008 |\n",
      "|833    |3918   |2.846635  |\n",
      "|1088   |6397   |3.2996466 |\n",
      "|1238   |6658   |3.486772  |\n",
      "|1342   |4900   |3.9429505 |\n",
      "|1580   |11317  |3.2816837 |\n",
      "|1591   |15727  |3.8160303 |\n",
      "+-------+-------+----------+\n",
      "\n"
     ]
    }
   ],
   "source": [
    "books = ratings_df.select(als.getItemCol()).distinct().limit(10)\n",
    "users = ratings_df.select(als.getUserCol()).distinct().limit(10)\n",
    "book_ids = []\n",
    "user_ids = []\n",
    "    \n",
    "for i in range(0, books.count()):\n",
    "        book_ids.append(books.collect()[i][0])\n",
    "        user_ids.append(users.collect()[i][0])\n",
    "\n",
    "newUserPred = spark.createDataFrame(zip(book_ids, user_ids), schema = ['book_id', 'user_id'])\n",
    "newPredictions = cvModel.bestModel.transform(newUserPred)\n",
    "\n",
    "newPredictions.printSchema()\n",
    "newPredictions.select(\"book_id\", \"user_id\", \"prediction\").show(10, False)"
   ]
  },
  {
   "cell_type": "markdown",
   "metadata": {},
   "source": [
    "# Save Model"
   ]
  },
  {
   "cell_type": "code",
   "execution_count": 121,
   "metadata": {},
   "outputs": [
    {
     "data": {
      "text/plain": [
       "CrossValidatorModel_b9c2951edd8a"
      ]
     },
     "execution_count": 121,
     "metadata": {},
     "output_type": "execute_result"
    }
   ],
   "source": [
    "#save to folder models which is created in the writing process\n",
    "path=\"./PythonRecommenderSystem/models\"\n",
    "\n",
    "model = cvModel\n",
    "model.write().overwrite().save(path)\n",
    "\n",
    "#load the model \n",
    "sameModel = cvModel.load(path)\n",
    "sameModel"
   ]
  },
  {
   "cell_type": "code",
   "execution_count": null,
   "metadata": {},
   "outputs": [],
   "source": [
    "#stop the spark cluster here\n",
    "pool.close()\n",
    "spark.stop()"
   ]
  }
 ],
 "metadata": {
  "kernelspec": {
   "display_name": "Python 3",
   "language": "python",
   "name": "python3"
  },
  "language_info": {
   "codemirror_mode": {
    "name": "ipython",
    "version": 3
   },
   "file_extension": ".py",
   "mimetype": "text/x-python",
   "name": "python",
   "nbconvert_exporter": "python",
   "pygments_lexer": "ipython3",
   "version": "3.7.6"
  }
 },
 "nbformat": 4,
 "nbformat_minor": 4
}
